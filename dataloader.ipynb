{
 "cells": [
  {
   "cell_type": "code",
   "execution_count": 1,
   "id": "1d1371bf",
   "metadata": {},
   "outputs": [],
   "source": [
    "import pandas as pd\n",
    "import numpy as np\n",
    "from IPython.display import display"
   ]
  },
  {
   "cell_type": "code",
   "execution_count": 2,
   "id": "8b1b3c88",
   "metadata": {},
   "outputs": [],
   "source": [
    "from typing import Dict\n",
    "\n",
    "from allennlp.data import DatasetReader, Tokenizer, TokenIndexer, Instance, Vocabulary\n",
    "from allennlp.data.data_loaders import MultiProcessDataLoader\n",
    "from allennlp.data.fields import TextField, LabelField\n",
    "from allennlp.data.token_indexers import SingleIdTokenIndexer\n",
    "from allennlp.data.tokenizers import WhitespaceTokenizer"
   ]
  },
  {
   "cell_type": "code",
   "execution_count": 11,
   "id": "34511d18",
   "metadata": {},
   "outputs": [
    {
     "data": {
      "text/html": [
       "<div>\n",
       "<style scoped>\n",
       "    .dataframe tbody tr th:only-of-type {\n",
       "        vertical-align: middle;\n",
       "    }\n",
       "\n",
       "    .dataframe tbody tr th {\n",
       "        vertical-align: top;\n",
       "    }\n",
       "\n",
       "    .dataframe thead th {\n",
       "        text-align: right;\n",
       "    }\n",
       "</style>\n",
       "<table border=\"1\" class=\"dataframe\">\n",
       "  <thead>\n",
       "    <tr style=\"text-align: right;\">\n",
       "      <th></th>\n",
       "      <th>favorite_count</th>\n",
       "      <th>full_text</th>\n",
       "      <th>hashtags</th>\n",
       "      <th>retweet_count</th>\n",
       "      <th>year</th>\n",
       "      <th>party_id</th>\n",
       "    </tr>\n",
       "  </thead>\n",
       "  <tbody>\n",
       "    <tr>\n",
       "      <th>0</th>\n",
       "      <td>0</td>\n",
       "      <td>b\"RT @KUSINews: One of our longtime viewers wa...</td>\n",
       "      <td>KUSI</td>\n",
       "      <td>10</td>\n",
       "      <td>2017.0</td>\n",
       "      <td>R</td>\n",
       "    </tr>\n",
       "    <tr>\n",
       "      <th>1</th>\n",
       "      <td>258</td>\n",
       "      <td>b\"Today I'm urging the @CDCgov to immediately ...</td>\n",
       "      <td>Coronavirus</td>\n",
       "      <td>111</td>\n",
       "      <td>2020.0</td>\n",
       "      <td>R</td>\n",
       "    </tr>\n",
       "    <tr>\n",
       "      <th>2</th>\n",
       "      <td>0</td>\n",
       "      <td>b'Tomorrow, #MO03 seniors graduate from Calvar...</td>\n",
       "      <td>MO03</td>\n",
       "      <td>2</td>\n",
       "      <td>2014.0</td>\n",
       "      <td>R</td>\n",
       "    </tr>\n",
       "    <tr>\n",
       "      <th>3</th>\n",
       "      <td>9</td>\n",
       "      <td>b'Congrats to #TeamUSA and Canton Native @JGre...</td>\n",
       "      <td>TeamUSA WorldJuniors</td>\n",
       "      <td>3</td>\n",
       "      <td>2017.0</td>\n",
       "      <td>R</td>\n",
       "    </tr>\n",
       "    <tr>\n",
       "      <th>4</th>\n",
       "      <td>3</td>\n",
       "      <td>b'Pleased to support @amergateways at their Ju...</td>\n",
       "      <td>ImmigrantHeritageMonth</td>\n",
       "      <td>3</td>\n",
       "      <td>2019.0</td>\n",
       "      <td>D</td>\n",
       "    </tr>\n",
       "  </tbody>\n",
       "</table>\n",
       "</div>"
      ],
      "text/plain": [
       "   favorite_count                                          full_text  \\\n",
       "0               0  b\"RT @KUSINews: One of our longtime viewers wa...   \n",
       "1             258  b\"Today I'm urging the @CDCgov to immediately ...   \n",
       "2               0  b'Tomorrow, #MO03 seniors graduate from Calvar...   \n",
       "3               9  b'Congrats to #TeamUSA and Canton Native @JGre...   \n",
       "4               3  b'Pleased to support @amergateways at their Ju...   \n",
       "\n",
       "                 hashtags  retweet_count    year party_id  \n",
       "0                    KUSI             10  2017.0        R  \n",
       "1             Coronavirus            111  2020.0        R  \n",
       "2                    MO03              2  2014.0        R  \n",
       "3    TeamUSA WorldJuniors              3  2017.0        R  \n",
       "4  ImmigrantHeritageMonth              3  2019.0        D  "
      ]
     },
     "execution_count": 11,
     "metadata": {},
     "output_type": "execute_result"
    }
   ],
   "source": [
    "df.head()"
   ]
  },
  {
   "cell_type": "code",
   "execution_count": 14,
   "id": "d69a5a82",
   "metadata": {},
   "outputs": [],
   "source": [
    "class KaggleReader(DatasetReader):\n",
    "    def __init__(self,\n",
    "                 max_instances = 600_000,\n",
    "                 tokenizer = None,\n",
    "                 token_indexers = None,\n",
    "                 max_tokens= None):\n",
    "\n",
    "        super().__init__(max_instances = max_instances) # initialize DatasetReader\n",
    "        self.tokenizer = tokenizer or WhitespaceTokenizer() # If tokenizer not provided: WhitespaceTokenizer\n",
    "        self.token_indexers = token_indexers or {'tokens': SingleIdTokenIndexer()} # If token_indexers not provided: SingleIdTokenIndexer\n",
    "        self.max_tokens = max_tokens\n",
    "\n",
    "    def text_to_instance(self, fields):\n",
    "        return Instance(fields) # Instance 是imported class\n",
    "\n",
    "    def _read(self, file_path: str):\n",
    "        df = pd.read_csv(file_path, index_col=0)\n",
    "        for _ , row in df.iterrows():\n",
    "            text = row[\"full_text\"]\n",
    "\n",
    "            tokens = self.tokenizer.tokenize(text)\n",
    "            if self.max_tokens:\n",
    "                tokens = tokens[:self.max_tokens]\n",
    "\n",
    "            text_field = TextField(tokens, self.token_indexers)\n",
    "            label_field = LabelField(row[\"party_id\"])\n",
    "\n",
    "            fields = {'text': text_field, 'label': label_field}\n",
    "            yield self.text_to_instance(fields)\n"
   ]
  },
  {
   "cell_type": "code",
   "execution_count": 28,
   "id": "2156b3c8",
   "metadata": {},
   "outputs": [],
   "source": [
    "class KaggleReader(DatasetReader):\n",
    "    def __init__(self,\n",
    "                 max_instances = 100,\n",
    "                 tokenizer: Tokenizer = None,\n",
    "                 token_indexers: Dict[str, TokenIndexer] = None,\n",
    "                 max_tokens: int = None):\n",
    "        super().__init__(max_instances = max_instances)\n",
    "        self.tokenizer = tokenizer or WhitespaceTokenizer()\n",
    "        self.token_indexers = token_indexers or {'tokens': SingleIdTokenIndexer()}\n",
    "        self.max_tokens = max_tokens\n",
    "    \n",
    "    def text_to_instance(self, fields):\n",
    "        return Instance(fields)\n",
    "    \n",
    "    def _read(self, file_path: str):\n",
    "        df = pd.read_csv(file_path, index_col=0)\n",
    "        for _ , row in df.iterrows():\n",
    "            text = row[\"full_text\"]\n",
    "            tokens = self.tokenizer.tokenize(text)\n",
    "            if self.max_tokens:\n",
    "                tokens = tokens[:self.max_tokens]\n",
    "            text_field = TextField(tokens, self.token_indexers)\n",
    "            label_field = LabelField(row[\"party_id\"])\n",
    "            fields = {'text': text_field, 'label': label_field}\n",
    "            yield self.text_to_instance(fields)"
   ]
  },
  {
   "cell_type": "code",
   "execution_count": 8,
   "id": "7737eb84",
   "metadata": {},
   "outputs": [],
   "source": [
    "data_path = \"congressional_tweet.csv\""
   ]
  },
  {
   "cell_type": "code",
   "execution_count": 22,
   "id": "dab0523a",
   "metadata": {},
   "outputs": [],
   "source": [
    "import nltk\n",
    "tag = nltk.pos_tag(nltk.word_tokenize(df.full_text[0]))"
   ]
  },
  {
   "cell_type": "code",
   "execution_count": 29,
   "id": "a6b4184a",
   "metadata": {},
   "outputs": [
    {
     "data": {
      "application/vnd.jupyter.widget-view+json": {
       "model_id": "b3a6cc46aca048fa8f46b4be0b6e74b2",
       "version_major": 2,
       "version_minor": 0
      },
      "text/plain": [
       "loading instances: 0it [00:00, ?it/s]"
      ]
     },
     "metadata": {},
     "output_type": "display_data"
    },
    {
     "data": {
      "application/vnd.jupyter.widget-view+json": {
       "model_id": "a54f5ad1ba6d45289c4b1d84275fbb5c",
       "version_major": 2,
       "version_minor": 0
      },
      "text/plain": [
       "building vocab: 0it [00:00, ?it/s]"
      ]
     },
     "metadata": {},
     "output_type": "display_data"
    },
    {
     "name": "stdout",
     "output_type": "stream",
     "text": [
      "{'text': {'tokens': {'tokens': tensor([[ 49, 262, 263,   5,  11, 264, 265,  50,   7, 266, 267, 117,  33,   4,\n",
      "         118,  71,  72, 268, 269, 119,  27,   6, 270, 271,   0,   0,   0,   0,\n",
      "           0,   0,   0,   0,   0,   0,   0,   0,   0,   0,   0,   0,   0,   0,\n",
      "           0,   0],\n",
      "        [272,  51,  73,   2, 273,   3, 120, 274,   6, 275, 276, 277,   3, 121,\n",
      "         122,  12,  39, 278,   2, 279, 280,  73,   2, 281,   3, 282, 283, 284,\n",
      "          16, 123,   8, 124,  34, 285,   3,  40, 286, 125,   8,  40, 287, 288,\n",
      "         289, 290]])}}, 'label': tensor([1, 1])}\n"
     ]
    }
   ],
   "source": [
    "reader = KaggleReader()\n",
    "dataloader = MultiProcessDataLoader(reader, data_path ,batch_size=2)\n",
    "instances = dataloader.iter_instances()\n",
    "vocab = Vocabulary.from_instances(instances)\n",
    "dataloader.index_with(vocab)\n",
    "\n",
    "for batch in dataloader:\n",
    "    print(batch)\n",
    "    break"
   ]
  },
  {
   "cell_type": "code",
   "execution_count": 9,
   "id": "a1a4cad3",
   "metadata": {},
   "outputs": [],
   "source": [
    "df = pd.read_csv(data_path)"
   ]
  },
  {
   "cell_type": "code",
   "execution_count": 10,
   "id": "caa8ebd6",
   "metadata": {},
   "outputs": [
    {
     "data": {
      "text/html": [
       "<div>\n",
       "<style scoped>\n",
       "    .dataframe tbody tr th:only-of-type {\n",
       "        vertical-align: middle;\n",
       "    }\n",
       "\n",
       "    .dataframe tbody tr th {\n",
       "        vertical-align: top;\n",
       "    }\n",
       "\n",
       "    .dataframe thead th {\n",
       "        text-align: right;\n",
       "    }\n",
       "</style>\n",
       "<table border=\"1\" class=\"dataframe\">\n",
       "  <thead>\n",
       "    <tr style=\"text-align: right;\">\n",
       "      <th></th>\n",
       "      <th>favorite_count</th>\n",
       "      <th>full_text</th>\n",
       "      <th>hashtags</th>\n",
       "      <th>retweet_count</th>\n",
       "      <th>year</th>\n",
       "      <th>party_id</th>\n",
       "    </tr>\n",
       "  </thead>\n",
       "  <tbody>\n",
       "    <tr>\n",
       "      <th>0</th>\n",
       "      <td>0</td>\n",
       "      <td>b\"RT @KUSINews: One of our longtime viewers wa...</td>\n",
       "      <td>KUSI</td>\n",
       "      <td>10</td>\n",
       "      <td>2017.0</td>\n",
       "      <td>R</td>\n",
       "    </tr>\n",
       "    <tr>\n",
       "      <th>1</th>\n",
       "      <td>258</td>\n",
       "      <td>b\"Today I'm urging the @CDCgov to immediately ...</td>\n",
       "      <td>Coronavirus</td>\n",
       "      <td>111</td>\n",
       "      <td>2020.0</td>\n",
       "      <td>R</td>\n",
       "    </tr>\n",
       "    <tr>\n",
       "      <th>2</th>\n",
       "      <td>0</td>\n",
       "      <td>b'Tomorrow, #MO03 seniors graduate from Calvar...</td>\n",
       "      <td>MO03</td>\n",
       "      <td>2</td>\n",
       "      <td>2014.0</td>\n",
       "      <td>R</td>\n",
       "    </tr>\n",
       "    <tr>\n",
       "      <th>3</th>\n",
       "      <td>9</td>\n",
       "      <td>b'Congrats to #TeamUSA and Canton Native @JGre...</td>\n",
       "      <td>TeamUSA WorldJuniors</td>\n",
       "      <td>3</td>\n",
       "      <td>2017.0</td>\n",
       "      <td>R</td>\n",
       "    </tr>\n",
       "    <tr>\n",
       "      <th>4</th>\n",
       "      <td>3</td>\n",
       "      <td>b'Pleased to support @amergateways at their Ju...</td>\n",
       "      <td>ImmigrantHeritageMonth</td>\n",
       "      <td>3</td>\n",
       "      <td>2019.0</td>\n",
       "      <td>D</td>\n",
       "    </tr>\n",
       "  </tbody>\n",
       "</table>\n",
       "</div>"
      ],
      "text/plain": [
       "   favorite_count                                          full_text  \\\n",
       "0               0  b\"RT @KUSINews: One of our longtime viewers wa...   \n",
       "1             258  b\"Today I'm urging the @CDCgov to immediately ...   \n",
       "2               0  b'Tomorrow, #MO03 seniors graduate from Calvar...   \n",
       "3               9  b'Congrats to #TeamUSA and Canton Native @JGre...   \n",
       "4               3  b'Pleased to support @amergateways at their Ju...   \n",
       "\n",
       "                 hashtags  retweet_count    year party_id  \n",
       "0                    KUSI             10  2017.0        R  \n",
       "1             Coronavirus            111  2020.0        R  \n",
       "2                    MO03              2  2014.0        R  \n",
       "3    TeamUSA WorldJuniors              3  2017.0        R  \n",
       "4  ImmigrantHeritageMonth              3  2019.0        D  "
      ]
     },
     "execution_count": 10,
     "metadata": {},
     "output_type": "execute_result"
    }
   ],
   "source": [
    "df.head()"
   ]
  },
  {
   "cell_type": "code",
   "execution_count": null,
   "id": "d7d2e039",
   "metadata": {},
   "outputs": [],
   "source": []
  }
 ],
 "metadata": {
  "kernelspec": {
   "display_name": "Python 3 (ipykernel)",
   "language": "python",
   "name": "python3"
  },
  "language_info": {
   "codemirror_mode": {
    "name": "ipython",
    "version": 3
   },
   "file_extension": ".py",
   "mimetype": "text/x-python",
   "name": "python",
   "nbconvert_exporter": "python",
   "pygments_lexer": "ipython3",
   "version": "3.8.13"
  }
 },
 "nbformat": 4,
 "nbformat_minor": 5
}
